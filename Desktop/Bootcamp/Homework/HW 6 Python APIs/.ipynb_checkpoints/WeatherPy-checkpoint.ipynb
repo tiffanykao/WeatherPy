{
 "cells": [
  {
   "cell_type": "code",
   "execution_count": 2,
   "metadata": {},
   "outputs": [],
   "source": [
    "## CONCLUSIONS\n",
    "# 1. \n",
    "# 2.\n",
    "# 3.\n",
    "\n",
    "import pandas as pd\n",
    "import json\n",
    "import matplotlib.pyplot as plt\n",
    "import requests\n",
    "import random\n",
    "\n",
    "from config import api_key\n",
    "from pprint import pprint\n",
    "# from citipy import citipy"
   ]
  },
  {
   "cell_type": "code",
   "execution_count": 123,
   "metadata": {
    "collapsed": true
   },
   "outputs": [],
   "source": [
    "url = \"http://api.openweathermap.org/data/2.5/weather?\"\n",
    "units = \"imperial\"\n",
    "\n",
    "query_url = url + \"appid=\" + api_key + \"&units=\" + units + \"&q=\"\n",
    "\n",
    "# Will replace this with random 500 cities\n",
    "city = [\"Paris\", \"London\", \"Oslo\", \"Beijing\"]"
   ]
  },
  {
   "cell_type": "code",
   "execution_count": 10,
   "metadata": {},
   "outputs": [
    {
     "data": {
      "text/plain": [
       "600"
      ]
     },
     "execution_count": 10,
     "metadata": {},
     "output_type": "execute_result"
    }
   ],
   "source": [
    "# Generate list of 500 random cities\n",
    "\n",
    "# First, generate a list of random long/lat coordinates\n",
    "random_lon = [random.randint(-180, 180) for _ in range(500)]\n",
    "random_lat = [random.randint(-90, 90) for _ in range(500)]\n",
    "\n",
    "# Second, find city names based on random lon/lat coord using citypi\n",
    "#city = citipy.nearest_city(random_lon, random_lat)"
   ]
  },
  {
   "cell_type": "code",
   "execution_count": 231,
   "metadata": {},
   "outputs": [
    {
     "name": "stdout",
     "output_type": "stream",
     "text": [
      "48.86\n",
      "51.51\n",
      "59.91\n",
      "39.91\n"
     ]
    },
    {
     "data": {
      "text/plain": [
       "[46.4, 41, 26.6, 50]"
      ]
     },
     "execution_count": 231,
     "metadata": {},
     "output_type": "execute_result"
    }
   ],
   "source": [
    "country = []\n",
    "date = []\n",
    "lat = []\n",
    "lon = []\n",
    "max_temp = []\n",
    "humidity = []\n",
    "clouds = []\n",
    "wind = []\n",
    "\n",
    "# Loop through the list of cities and perform a request for data on each\n",
    "for city in cities:\n",
    "    response = requests.get(query_url + city).json()\n",
    "    pprint(response['coord']['lat'])\n",
    "    country.append(response['sys']['country'])\n",
    "    date.append(response['dt'])\n",
    "    lat.append(response['coord']['lat'])\n",
    "    lon.append(response['coord']['lon'])\n",
    "    max_temp.append(response['main']['temp_max'])\n",
    "    humidity.append(response['main']['humidity'])\n",
    "    clouds.append(response['clouds']['all'])\n",
    "    wind.append(response['wind']['speed'])\n",
    "    \n",
    "max_temp"
   ]
  },
  {
   "cell_type": "code",
   "execution_count": 232,
   "metadata": {},
   "outputs": [
    {
     "data": {
      "text/plain": [
       "{'base': 'stations',\n",
       " 'clouds': {'all': 0},\n",
       " 'cod': 200,\n",
       " 'coord': {'lat': 39.91, 'lon': 116.39},\n",
       " 'dt': 1522621800,\n",
       " 'id': 1816670,\n",
       " 'main': {'humidity': 100,\n",
       "  'pressure': 1006,\n",
       "  'temp': 50,\n",
       "  'temp_max': 50,\n",
       "  'temp_min': 50},\n",
       " 'name': 'Beijing',\n",
       " 'sys': {'country': 'CN',\n",
       "  'id': 7405,\n",
       "  'message': 0.0033,\n",
       "  'sunrise': 1522533466,\n",
       "  'sunset': 1522579147,\n",
       "  'type': 1},\n",
       " 'visibility': 1700,\n",
       " 'weather': [{'description': 'mist',\n",
       "   'icon': '50n',\n",
       "   'id': 701,\n",
       "   'main': 'Mist'}],\n",
       " 'wind': {'deg': 10, 'speed': 4.47}}"
      ]
     },
     "execution_count": 232,
     "metadata": {},
     "output_type": "execute_result"
    }
   ],
   "source": [
    "requests.get(query_url + city).json()"
   ]
  },
  {
   "cell_type": "code",
   "execution_count": 233,
   "metadata": {},
   "outputs": [
    {
     "data": {
      "text/html": [
       "<div>\n",
       "<style>\n",
       "    .dataframe thead tr:only-child th {\n",
       "        text-align: right;\n",
       "    }\n",
       "\n",
       "    .dataframe thead th {\n",
       "        text-align: left;\n",
       "    }\n",
       "\n",
       "    .dataframe tbody tr th {\n",
       "        vertical-align: top;\n",
       "    }\n",
       "</style>\n",
       "<table border=\"1\" class=\"dataframe\">\n",
       "  <thead>\n",
       "    <tr style=\"text-align: right;\">\n",
       "      <th></th>\n",
       "      <th>City</th>\n",
       "      <th>Cloudiness</th>\n",
       "      <th>Country</th>\n",
       "      <th>Date</th>\n",
       "      <th>Humidity</th>\n",
       "      <th>Latitude</th>\n",
       "      <th>Longtitude</th>\n",
       "      <th>Max Temperature</th>\n",
       "      <th>Wind Speed</th>\n",
       "    </tr>\n",
       "  </thead>\n",
       "  <tbody>\n",
       "    <tr>\n",
       "      <th>0</th>\n",
       "      <td>Paris</td>\n",
       "      <td>0</td>\n",
       "      <td>FR</td>\n",
       "      <td>1522621800</td>\n",
       "      <td>65</td>\n",
       "      <td>48.86</td>\n",
       "      <td>2.35</td>\n",
       "      <td>46.4</td>\n",
       "      <td>4.70</td>\n",
       "    </tr>\n",
       "    <tr>\n",
       "      <th>1</th>\n",
       "      <td>London</td>\n",
       "      <td>88</td>\n",
       "      <td>GB</td>\n",
       "      <td>1522623000</td>\n",
       "      <td>80</td>\n",
       "      <td>51.51</td>\n",
       "      <td>-0.13</td>\n",
       "      <td>41.0</td>\n",
       "      <td>6.93</td>\n",
       "    </tr>\n",
       "    <tr>\n",
       "      <th>2</th>\n",
       "      <td>Oslo</td>\n",
       "      <td>0</td>\n",
       "      <td>NO</td>\n",
       "      <td>1522623000</td>\n",
       "      <td>49</td>\n",
       "      <td>59.91</td>\n",
       "      <td>10.74</td>\n",
       "      <td>26.6</td>\n",
       "      <td>6.93</td>\n",
       "    </tr>\n",
       "    <tr>\n",
       "      <th>3</th>\n",
       "      <td>Beijing</td>\n",
       "      <td>0</td>\n",
       "      <td>CN</td>\n",
       "      <td>1522621800</td>\n",
       "      <td>100</td>\n",
       "      <td>39.91</td>\n",
       "      <td>116.39</td>\n",
       "      <td>50.0</td>\n",
       "      <td>4.47</td>\n",
       "    </tr>\n",
       "  </tbody>\n",
       "</table>\n",
       "</div>"
      ],
      "text/plain": [
       "      City  Cloudiness Country        Date  Humidity  Latitude  Longtitude  \\\n",
       "0    Paris           0      FR  1522621800        65     48.86        2.35   \n",
       "1   London          88      GB  1522623000        80     51.51       -0.13   \n",
       "2     Oslo           0      NO  1522623000        49     59.91       10.74   \n",
       "3  Beijing           0      CN  1522621800       100     39.91      116.39   \n",
       "\n",
       "   Max Temperature  Wind Speed  \n",
       "0             46.4        4.70  \n",
       "1             41.0        6.93  \n",
       "2             26.6        6.93  \n",
       "3             50.0        4.47  "
      ]
     },
     "execution_count": 233,
     "metadata": {},
     "output_type": "execute_result"
    }
   ],
   "source": [
    "# create a data frame from cities, lat, and temp\n",
    "weather_dict = {\n",
    "    \"City\": cities,\n",
    "    \"Country\": country,\n",
    "    \"Date\": date,\n",
    "    \"Latitude\": lat,\n",
    "    \"Longtitude\": lon,\n",
    "    \"Max Temperature\": max_temp,\n",
    "    \"Humidity\": humidity,\n",
    "    \"Cloudiness\": clouds,\n",
    "    \"Wind Speed\": wind\n",
    "}\n",
    "weather_data = pd.DataFrame(weather_dict)\n",
    "weather_data.head()"
   ]
  },
  {
   "cell_type": "code",
   "execution_count": 234,
   "metadata": {},
   "outputs": [
    {
     "data": {
      "image/png": "[encoded data removed]",
      "text/plain": [
       "<matplotlib.figure.Figure at 0x11bb9a240>"
      ]
     },
     "metadata": {},
     "output_type": "display_data"
    }
   ],
   "source": [
    "# SCATTER PLOT 1: TEMP VS. LATITUDE\n",
    "\n",
    "ax = weather_data.plot(\n",
    "    kind = 'scatter', \n",
    "    x = \"Latitude\", \n",
    "    y = \"Max Temperature\", \n",
    "    color = 'navy',  \n",
    "    linewidth=0.2,\n",
    "    fontsize = 9\n",
    ")\n",
    "\n",
    "# Titles\n",
    "ax.set_title(\"City Latitude vs. Max Temperature\")\n",
    "ax.set_xlabel('Latitude')\n",
    "ax.set_ylabel('Max Temperature (F)')\n",
    "\n",
    "# Set min/max of x/y axes\n",
    "ax.set_xlim(-80,100)\n",
    "ax.set_ylim(-100,150)\n",
    "\n",
    "# Format colors\n",
    "ax.set_facecolor('lavender')\n",
    "ax.grid(color='w', linestyle='-', linewidth=0.7)\n",
    "for tick in ax.get_xticklines():\n",
    "    tick.set_color('white')\n",
    "for tick in ax.get_yticklines():\n",
    "    tick.set_color('white')\n",
    "    \n",
    "ax.spines['top'].set_color('none')\n",
    "ax.spines['bottom'].set_color('none')\n",
    "ax.spines['left'].set_color('none')\n",
    "ax.spines['right'].set_color('none')\n",
    "\n",
    "plt.show()"
   ]
  },
  {
   "cell_type": "code",
   "execution_count": 235,
   "metadata": {},
   "outputs": [
    {
     "data": {
      "image/png": "[encoded data removed]",
      "text/plain": [
       "<matplotlib.figure.Figure at 0x11862c668>"
      ]
     },
     "metadata": {},
     "output_type": "display_data"
    }
   ],
   "source": [
    "# SCATTER PLOT 2: HUMIDITY VS. LATITUDE\n",
    "\n",
    "ax = weather_data.plot(\n",
    "    kind = 'scatter', \n",
    "    x = \"Latitude\", \n",
    "    y = \"Humidity\", \n",
    "    color = 'navy',  \n",
    "    linewidth=0.2,\n",
    "    fontsize = 9\n",
    ")\n",
    "\n",
    "# Titles\n",
    "ax.set_title(\"City Latitude vs. Humidity\")\n",
    "ax.set_xlabel('Latitude')\n",
    "ax.set_ylabel('Humidity (%)')\n",
    "\n",
    "# Set min/max of x/y axes\n",
    "ax.set_xlim(-80,100)\n",
    "ax.set_ylim(-20,120)\n",
    "\n",
    "# Format colors\n",
    "ax.set_facecolor('lavender')\n",
    "ax.grid(color='w', linestyle='-', linewidth=0.7)\n",
    "for tick in ax.get_xticklines():\n",
    "    tick.set_color('white')\n",
    "for tick in ax.get_yticklines():\n",
    "    tick.set_color('white')\n",
    "    \n",
    "ax.spines['top'].set_color('none')\n",
    "ax.spines['bottom'].set_color('none')\n",
    "ax.spines['left'].set_color('none')\n",
    "ax.spines['right'].set_color('none')\n",
    "\n",
    "plt.show()"
   ]
  },
  {
   "cell_type": "code",
   "execution_count": 236,
   "metadata": {},
   "outputs": [
    {
     "data": {
      "image/png": "[encoded data removed]",
      "text/plain": [
       "<matplotlib.figure.Figure at 0x11c09a0f0>"
      ]
     },
     "metadata": {},
     "output_type": "display_data"
    }
   ],
   "source": [
    "# SCATTER PLOT 3: CLOUDINESS VS. LATITUDE\n",
    "\n",
    "ax = weather_data.plot(\n",
    "    kind = 'scatter', \n",
    "    x = \"Latitude\", \n",
    "    y = \"Cloudiness\", \n",
    "    color = 'navy',  \n",
    "    linewidth=0.2,\n",
    "    fontsize = 9\n",
    ")\n",
    "\n",
    "# Titles\n",
    "ax.set_title(\"City Latitude vs. Cloudiness\")\n",
    "ax.set_xlabel('Latitude')\n",
    "ax.set_ylabel('Cloudiness (%)')\n",
    "\n",
    "# Set min/max of x/y axes\n",
    "ax.set_xlim(-80,100)\n",
    "ax.set_ylim(-20,120)\n",
    "\n",
    "# Format colors\n",
    "ax.set_facecolor('lavender')\n",
    "ax.grid(color='w', linestyle='-', linewidth=0.7)\n",
    "for tick in ax.get_xticklines():\n",
    "    tick.set_color('white')\n",
    "for tick in ax.get_yticklines():\n",
    "    tick.set_color('white')\n",
    "    \n",
    "ax.spines['top'].set_color('none')\n",
    "ax.spines['bottom'].set_color('none')\n",
    "ax.spines['left'].set_color('none')\n",
    "ax.spines['right'].set_color('none')\n",
    "\n",
    "plt.show()"
   ]
  },
  {
   "cell_type": "code",
   "execution_count": 237,
   "metadata": {},
   "outputs": [
    {
     "data": {
      "image/png": "[encoded data removed]",
      "text/plain": [
       "<matplotlib.figure.Figure at 0x11bfb7d68>"
      ]
     },
     "metadata": {},
     "output_type": "display_data"
    }
   ],
   "source": [
    "# SCATTER PLOT 4: WIND SPEED VS. LATITUDE\n",
    "\n",
    "ax = weather_data.plot(\n",
    "    kind = 'scatter', \n",
    "    x = \"Latitude\", \n",
    "    y = \"Wind Speed\", \n",
    "    color = 'navy',  \n",
    "    linewidth=0.2,\n",
    "    fontsize = 9\n",
    ")\n",
    "\n",
    "# Titles\n",
    "ax.set_title(\"City Latitude vs. Wind Speed\")\n",
    "ax.set_xlabel('Latitude')\n",
    "ax.set_ylabel('Wind speed (mph)')\n",
    "\n",
    "# Set min/max of x/y axes\n",
    "ax.set_xlim(-80,100)\n",
    "ax.set_ylim(-5,40)\n",
    "\n",
    "# Format colors\n",
    "ax.set_facecolor('lavender')\n",
    "ax.grid(color='w', linestyle='-', linewidth=0.7)\n",
    "for tick in ax.get_xticklines():\n",
    "    tick.set_color('white')\n",
    "for tick in ax.get_yticklines():\n",
    "    tick.set_color('white')\n",
    "    \n",
    "ax.spines['top'].set_color('none')\n",
    "ax.spines['bottom'].set_color('none')\n",
    "ax.spines['left'].set_color('none')\n",
    "ax.spines['right'].set_color('none')\n",
    "\n",
    "plt.show()"
   ]
  },
  {
   "cell_type": "code",
   "execution_count": null,
   "metadata": {
    "collapsed": true
   },
   "outputs": [],
   "source": []
  }
 ],
 "metadata": {
  "kernelspec": {
   "display_name": "Python [conda env:PythonData]",
   "language": "python",
   "name": "conda-env-PythonData-py"
  },
  "language_info": {
   "codemirror_mode": {
    "name": "ipython",
    "version": 3
   },
   "file_extension": ".py",
   "mimetype": "text/x-python",
   "name": "python",
   "nbconvert_exporter": "python",
   "pygments_lexer": "ipython3",
   "version": "3.6.1"
  }
 },
 "nbformat": 4,
 "nbformat_minor": 2
}
